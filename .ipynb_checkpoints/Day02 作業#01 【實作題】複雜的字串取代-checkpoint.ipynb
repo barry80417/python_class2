{
 "cells": [
  {
   "cell_type": "code",
   "execution_count": 11,
   "metadata": {},
   "outputs": [
    {
     "name": "stdout",
     "output_type": "stream",
     "text": [
      "This company is good.\n"
     ]
    }
   ],
   "source": [
    "s = input() #This company is not poor at all.\n",
    "#s = 'This company is not poor at all.'\n",
    "\n",
    "d = s.replace(s[s.find('not'):s.find('at all')+6],'good')\n",
    "\n",
    "print(d) #This company is good."
   ]
  },
  {
   "cell_type": "code",
   "execution_count": 17,
   "metadata": {},
   "outputs": [
    {
     "name": "stdout",
     "output_type": "stream",
     "text": [
      "This company is good.\n"
     ]
    }
   ],
   "source": [
    "s = 'This company is not poor at all.'\n",
    "import re\n",
    "\n",
    "d = re.sub(r'not.*at all','good',s) #sub套件可以做取代，.代表任何字元*代表字元個數\n",
    "\n",
    "print(d) #This company is good."
   ]
  },
  {
   "cell_type": "code",
   "execution_count": 6,
   "metadata": {},
   "outputs": [
    {
     "name": "stdout",
     "output_type": "stream",
     "text": [
      "not poor at all\n",
      "This company is good.\n"
     ]
    }
   ],
   "source": [
    "s = 'This company is not poor at all.'\n",
    "\n",
    "n_index = s.index('not')\n",
    "l_index = s.index('at all') + 5 #index是從頭搜尋，並給予位子值\n",
    "\n",
    "repl = s[n_index:l_index +1]\n",
    "print(repl)\n",
    "print(s.replace(repl, \"good\"))"
   ]
  },
  {
   "cell_type": "code",
   "execution_count": null,
   "metadata": {},
   "outputs": [],
   "source": []
  }
 ],
 "metadata": {
  "kernelspec": {
   "display_name": "Python 3",
   "language": "python",
   "name": "python3"
  },
  "language_info": {
   "codemirror_mode": {
    "name": "ipython",
    "version": 3
   },
   "file_extension": ".py",
   "mimetype": "text/x-python",
   "name": "python",
   "nbconvert_exporter": "python",
   "pygments_lexer": "ipython3",
   "version": "3.7.4"
  }
 },
 "nbformat": 4,
 "nbformat_minor": 2
}
