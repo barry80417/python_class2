{
 "cells": [
  {
   "cell_type": "code",
   "execution_count": 27,
   "metadata": {},
   "outputs": [
    {
     "name": "stdout",
     "output_type": "stream",
     "text": [
      "[0, 1]\n"
     ]
    }
   ],
   "source": [
    "nums = [2,7,11,15]\n",
    "target = 9\n",
    "\n",
    "# nums = [3,2,4]\n",
    "# target = 6\n",
    "\n",
    "for i in range(len(nums)):\n",
    "    j = i+1\n",
    "    for j in range(j,len(nums)):\n",
    "        if nums[i] + nums[j] == target:\n",
    "            d = [i, j]\n",
    "        \n",
    "\n",
    "\n",
    "print(d) # [0,1]"
   ]
  },
  {
   "cell_type": "code",
   "execution_count": 19,
   "metadata": {},
   "outputs": [
    {
     "name": "stdout",
     "output_type": "stream",
     "text": [
      "2\n"
     ]
    }
   ],
   "source": [
    "def twoSum(nums, target):\n",
    "    d = {}\n",
    "    for i in range(len(nums)):\n",
    "        num1 = nums[i]\n",
    "        num2 = taget - num1\n",
    "        if num2 in d:\n",
    "            return [d[num2], i]\n",
    "        d[num1] = i"
   ]
  },
  {
   "cell_type": "code",
   "execution_count": null,
   "metadata": {},
   "outputs": [],
   "source": []
  }
 ],
 "metadata": {
  "kernelspec": {
   "display_name": "Python 3",
   "language": "python",
   "name": "python3"
  },
  "language_info": {
   "codemirror_mode": {
    "name": "ipython",
    "version": 3
   },
   "file_extension": ".py",
   "mimetype": "text/x-python",
   "name": "python",
   "nbconvert_exporter": "python",
   "pygments_lexer": "ipython3",
   "version": "3.7.4"
  }
 },
 "nbformat": 4,
 "nbformat_minor": 2
}
