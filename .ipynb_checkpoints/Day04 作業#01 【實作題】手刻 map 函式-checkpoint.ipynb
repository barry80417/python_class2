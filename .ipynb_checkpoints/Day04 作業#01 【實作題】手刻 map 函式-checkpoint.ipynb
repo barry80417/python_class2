{
 "cells": [
  {
   "cell_type": "code",
   "execution_count": 15,
   "metadata": {},
   "outputs": [],
   "source": [
    "def add1(n):\n",
    "    return n+1"
   ]
  },
  {
   "cell_type": "code",
   "execution_count": 52,
   "metadata": {},
   "outputs": [],
   "source": [
    "def isPrime(n):\n",
    "    for i in range(2,n):\n",
    "        if n%i ==0:\n",
    "            return False\n",
    "        elif i==1 or i==2:\n",
    "            return True\n",
    "    return True"
   ]
  },
  {
   "cell_type": "code",
   "execution_count": 44,
   "metadata": {},
   "outputs": [],
   "source": [
    "def f(L,F):\n",
    "    maplist = []\n",
    "    for i in L:\n",
    "        maplist.append(F(i))\n",
    "    return maplist\n",
    "\n",
    "L = [1,2,3,4,5,6]\n",
    "F = add1\n",
    "print(f(L,F)) #[2,3,4,5,6,7]\n",
    "\n",
    "L = [2,3,4,5,6,7]\n",
    "F = isPrime\n",
    "print(f(L,F)) #[True,True,False,True,False,True]"
   ]
  },
  {
   "cell_type": "code",
   "execution_count": null,
   "metadata": {},
   "outputs": [],
   "source": [
    "def f(L: list, F) -> list: #L=[1,2,3,4,5,6], F=add1\n",
    "    response = []\n",
    "    \n",
    "    for element in L:\n",
    "        response.append(F(element)) #F(element) = add1(element)\n",
    "    return reponse\n",
    "\n",
    "L = [1,2,3,4,5,6]\n",
    "F = add1\n",
    "print(f(L,F)) #[2,3,4,5,6,7]\n",
    "\n",
    "L = [2,3,4,5,6,7]\n",
    "F = isPrime\n",
    "print(f(L,F)) #[True,True,False,True,False,True]"
   ]
  }
 ],
 "metadata": {
  "kernelspec": {
   "display_name": "Python 3",
   "language": "python",
   "name": "python3"
  },
  "language_info": {
   "codemirror_mode": {
    "name": "ipython",
    "version": 3
   },
   "file_extension": ".py",
   "mimetype": "text/x-python",
   "name": "python",
   "nbconvert_exporter": "python",
   "pygments_lexer": "ipython3",
   "version": "3.7.4"
  }
 },
 "nbformat": 4,
 "nbformat_minor": 2
}
