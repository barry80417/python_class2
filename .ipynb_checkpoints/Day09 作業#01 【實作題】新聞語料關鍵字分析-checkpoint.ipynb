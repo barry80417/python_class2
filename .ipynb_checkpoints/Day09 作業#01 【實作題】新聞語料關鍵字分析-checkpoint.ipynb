{
 "cells": [
  {
   "cell_type": "code",
   "execution_count": null,
   "metadata": {},
   "outputs": [],
   "source": [
    "'''\n",
    "1. 請問中文字和英文字在斷詞處理上可能會遇到哪些差異？\n",
    "'''\n",
    "英文斷詞可以只靠標點符號及空白斷詞\n",
    "中文斷詞通常需要依賴字典、規則"
   ]
  },
  {
   "cell_type": "code",
   "execution_count": 15,
   "metadata": {},
   "outputs": [],
   "source": [
    "'''\n",
    "3. 將準備好的新聞語料資料庫（.txt）利用讀入到程式中：\n",
    "'''\n",
    "\n",
    "\n",
    "# txt檔案路徑\n",
    "txt_file_path = \"/Users/chunweichang/Desktop/python class/data.txt\"\n",
    "\n",
    "# 載入檔案到變數中\n",
    "with open(txt_file_path, \"r\")as fn:\n",
    "    lines = fn.readlines()\n",
    "    lines = list(map(lambda x: x.strip(),lines)) # 移除斷行字元"
   ]
  },
  {
   "cell_type": "code",
   "execution_count": 41,
   "metadata": {},
   "outputs": [
    {
     "name": "stdout",
     "output_type": "stream",
     "text": [
      "Requirement already satisfied: jieba in /opt/anaconda3/lib/python3.7/site-packages (0.42.1)\n",
      "Requirement already satisfied: wget in /opt/anaconda3/lib/python3.7/site-packages (3.2)\n"
     ]
    },
    {
     "data": {
      "text/plain": [
       "'dict.txt (1).big'"
      ]
     },
     "execution_count": 41,
     "metadata": {},
     "output_type": "execute_result"
    }
   ],
   "source": [
    "'''\n",
    "4. 試著在 Colab 中使用 pip 安裝 `jieba` 斷詞套件與相關工具。Hint：指令前加上 ! 符號即可在 Colab 中執行 pip 指令\n",
    "'''\n",
    "\n",
    "# 安裝 jieba 中文斷詞套件\n",
    "!pip install jieba\n",
    "!pip install wget\n",
    "\n",
    "# 下載官方字典檔\n",
    "import wget\n",
    "url = 'https://raw.githubusercontent.com/fxsjy/jieba/master/extra_dict/dict.txt.big'\n",
    "wget.download(url)"
   ]
  },
  {
   "cell_type": "code",
   "execution_count": 42,
   "metadata": {},
   "outputs": [
    {
     "data": {
      "text/plain": [
       "'/Users/chunweichang/Desktop/python class/dict.txt.big'"
      ]
     },
     "execution_count": 42,
     "metadata": {},
     "output_type": "execute_result"
    }
   ],
   "source": [
    "import os\n",
    "os.path.abspath(\"./dict.txt.big\")"
   ]
  },
  {
   "cell_type": "code",
   "execution_count": 46,
   "metadata": {},
   "outputs": [],
   "source": [
    "# 載入套件與字典檔\n",
    "import jieba\n",
    "jieba.load_userdict(\"./dict.txt.big\")"
   ]
  },
  {
   "cell_type": "code",
   "execution_count": 49,
   "metadata": {},
   "outputs": [],
   "source": [
    "'''\n",
    "5. 試著用不同的斷詞模式將每篇新聞的原文進行斷詞：\n",
    "'''\n",
    "\n",
    "# 精確模式斷詞\n",
    "tokens_1 = list(map(lambda x: list(jieba.cut(str(x), HMM=False)), lines))\n",
    "\n",
    "# 全模式斷詞\n",
    "tokens_2 = list(map(lambda x: list(jieba.cut(str(x), cut_all=True, HMM=False)), lines))\n",
    "\n",
    "# 搜尋引擎模式斷詞\n",
    "tokens_3 = list(map(lambda x: list(jieba.cut_for_search(str(x), HMM=False)), lines))"
   ]
  },
  {
   "cell_type": "code",
   "execution_count": 51,
   "metadata": {},
   "outputs": [],
   "source": [
    "'''\n",
    "6. 最後請將斷詞後的結果計算成每個字詞的出現次數（詞頻），並存成以「出現單字為 KEY、出現次數為 Value」的 dict 型態變數：\n",
    "'''\n",
    "word_count = {}\n",
    "for sent in tokens_1: # 放入斷詞之後的變數\n",
    "  for word in sent:\n",
    "    if word not in word_count:\n",
    "      word_count[word] = 0\n",
    "    word_count[word] += 1 "
   ]
  },
  {
   "cell_type": "code",
   "execution_count": 53,
   "metadata": {},
   "outputs": [
    {
     "name": "stdout",
     "output_type": "stream",
     "text": [
      "Help on module wget:\n",
      "\n",
      "NAME\n",
      "    wget - Download utility as an easy way to get file from the net\n",
      "\n",
      "DESCRIPTION\n",
      "      python -m wget <URL>\n",
      "      python wget.py <URL>\n",
      "    \n",
      "    Downloads: http://pypi.python.org/pypi/wget/\n",
      "    Development: http://bitbucket.org/techtonik/python-wget/\n",
      "    \n",
      "    wget.py is not option compatible with Unix wget utility,\n",
      "    to make command line interface intuitive for new people.\n",
      "    \n",
      "    Public domain by anatoly techtonik <techtonik@gmail.com>\n",
      "    Also available under the terms of MIT license\n",
      "    Copyright (c) 2010-2015 anatoly techtonik\n",
      "\n",
      "FUNCTIONS\n",
      "    bar_adaptive(current, total, width=80)\n",
      "        Return progress bar string for given values in one of three\n",
      "        styles depending on available width:\n",
      "        \n",
      "            [..  ] downloaded / total\n",
      "            downloaded / total\n",
      "            [.. ]\n",
      "        \n",
      "        if total value is unknown or <= 0, show bytes counter using two\n",
      "        adaptive styles:\n",
      "        \n",
      "            %s / unknown\n",
      "            %s\n",
      "        \n",
      "        if there is not enough space on the screen, do not display anything\n",
      "        \n",
      "        returned string doesn't include control characters like \r",
      " used to\n",
      "        place cursor at the beginning of the line to erase previous content.\n",
      "        \n",
      "        this function leaves one free character at the end of string to\n",
      "        avoid automatic linefeed on Windows.\n",
      "    \n",
      "    bar_thermometer(current, total, width=80)\n",
      "        Return thermometer style progress bar string. `total` argument\n",
      "        can not be zero. The minimum size of bar returned is 3. Example:\n",
      "        \n",
      "            [..........            ]\n",
      "        \n",
      "        Control and trailing symbols (\r",
      " and spaces) are not included.\n",
      "        See `bar_adaptive` for more information.\n",
      "    \n",
      "    callback_progress(blocks, block_size, total_size, bar_function)\n",
      "        callback function for urlretrieve that is called when connection is\n",
      "        created and when once for each block\n",
      "        \n",
      "        draws adaptive progress bar in terminal/console\n",
      "        \n",
      "        use sys.stdout.write() instead of \"print,\", because it allows one more\n",
      "        symbol at the line end without linefeed on Windows\n",
      "        \n",
      "        :param blocks: number of blocks transferred so far\n",
      "        :param block_size: in bytes\n",
      "        :param total_size: in bytes, can be -1 if server doesn't return it\n",
      "        :param bar_function: another callback function to visualize progress\n",
      "    \n",
      "    detect_filename(url=None, out=None, headers=None, default='download.wget')\n",
      "        Return filename for saving file. If no filename is detected from output\n",
      "        argument, url or headers, return default (download.wget)\n",
      "    \n",
      "    download(url, out=None, bar=<function bar_adaptive at 0x7fb8b3dcf8c0>)\n",
      "        High level function, which downloads URL into tmp file in current\n",
      "        directory and then renames it to filename autodetected from either URL\n",
      "        or HTTP headers.\n",
      "        \n",
      "        :param bar: function to track download progress (visualize etc.)\n",
      "        :param out: output filename or directory\n",
      "        :return:    filename where URL is downloaded to\n",
      "    \n",
      "    filename_fix_existing(filename)\n",
      "        Expands name portion of filename with numeric ' (x)' suffix to\n",
      "        return filename that doesn't exist already.\n",
      "    \n",
      "    filename_from_headers(headers)\n",
      "        Detect filename from Content-Disposition headers if present.\n",
      "        http://greenbytes.de/tech/tc2231/\n",
      "        \n",
      "        :param: headers as dict, list or string\n",
      "        :return: filename from content-disposition header or None\n",
      "    \n",
      "    filename_from_url(url)\n",
      "        :return: detected filename as unicode or None\n",
      "    \n",
      "    get_console_width()\n",
      "        Return width of available window area. Autodetection works for\n",
      "        Windows and POSIX platforms. Returns 80 for others\n",
      "        \n",
      "        Code from http://bitbucket.org/techtonik/python-pager\n",
      "    \n",
      "    to_unicode(filename)\n",
      "        :return: filename decoded from utf-8 to unicode\n",
      "    \n",
      "    win32_unicode_console()\n",
      "        # enable unicode output to windows console\n",
      "        # https://stackoverflow.com/questions/878972/windows-cmd-encoding-change-causes-python-crash\n",
      "    \n",
      "    win32_utf8_argv()\n",
      "        Uses shell32.GetCommandLineArgvW to get sys.argv as a list of Unicode\n",
      "        strings.\n",
      "        \n",
      "        Versions 2.x of Python don't support Unicode in sys.argv on\n",
      "        Windows, with the underlying Windows API instead replacing multi-byte\n",
      "        characters with '?'.\n",
      "\n",
      "DATA\n",
      "    PY3K = True\n",
      "    usage = 'usage: wget.py [options] URL\\n\\noptions:\\n  -o --ou...ut file...\n",
      "\n",
      "VERSION\n",
      "    3.2\n",
      "\n",
      "FILE\n",
      "    /opt/anaconda3/lib/python3.7/site-packages/wget.py\n",
      "\n",
      "\n"
     ]
    }
   ],
   "source": [
    "help(wget)"
   ]
  },
  {
   "cell_type": "code",
   "execution_count": null,
   "metadata": {},
   "outputs": [],
   "source": []
  }
 ],
 "metadata": {
  "kernelspec": {
   "display_name": "Python 3",
   "language": "python",
   "name": "python3"
  },
  "language_info": {
   "codemirror_mode": {
    "name": "ipython",
    "version": 3
   },
   "file_extension": ".py",
   "mimetype": "text/x-python",
   "name": "python",
   "nbconvert_exporter": "python",
   "pygments_lexer": "ipython3",
   "version": "3.7.4"
  }
 },
 "nbformat": 4,
 "nbformat_minor": 2
}
