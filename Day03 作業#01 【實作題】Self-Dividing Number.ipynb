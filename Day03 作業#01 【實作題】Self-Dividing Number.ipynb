{
 "cells": [
  {
   "cell_type": "code",
   "execution_count": 98,
   "metadata": {},
   "outputs": [
    {
     "name": "stdout",
     "output_type": "stream",
     "text": [
      "900\n",
      "100\n",
      "[111, 112, 115, 122, 124, 126, 128, 132, 135, 144, 155, 162, 168, 175, 184, 212, 216, 222, 224, 244, 248, 264, 288, 312, 315, 324, 333, 336, 366, 384, 396, 412, 424, 432, 444, 448, 488, 515, 555, 612, 624, 636, 648, 666, 672, 728, 735, 777, 784, 816, 824, 848, 864, 888]\n",
      "[555, 612]\n"
     ]
    }
   ],
   "source": [
    "a, b = int(input()), int(input())\n",
    "\n",
    "def selfdividingnum(left,right): #not 0 and self dividing\n",
    "    if left >right : #min in left and max in right\n",
    "        left, right = right, left\n",
    "    def isdivid(num): \n",
    "        list1 = list(str(num))\n",
    "        if '0' in list1: return False\n",
    "        for item in list1:\n",
    "            if num% int(item) != 0:\n",
    "                return False\n",
    "        return True\n",
    "    res = []\n",
    "    for i in range(left, right+1):\n",
    "        if isdivid(i):res.append(i)\n",
    "    return res\n",
    "list2 = selfdividingnum(a,b)\n",
    "print(list2)\n",
    "\n",
    "def gapmax(res): #choice max gap between 2 number\n",
    "    diff = 0\n",
    "    for i in range(len(res)-1):\n",
    "        if res[i+1]-res[i] > diff:\n",
    "            diff = res[i+1]-res[i]\n",
    "            maxnum = [res[i],res[i+1]]\n",
    "    return maxnum\n",
    "\n",
    "d = gapmax(list2)\n",
    "print(d)\n",
    "        "
   ]
  },
  {
   "cell_type": "markdown",
   "metadata": {},
   "source": [
    " "
   ]
  },
  {
   "cell_type": "code",
   "execution_count": 96,
   "metadata": {},
   "outputs": [
    {
     "name": "stdout",
     "output_type": "stream",
     "text": [
      "[12, 15]\n"
     ]
    }
   ],
   "source": []
  },
  {
   "cell_type": "code",
   "execution_count": 3,
   "metadata": {},
   "outputs": [
    {
     "name": "stdout",
     "output_type": "stream",
     "text": [
      "input a:100\n",
      "input b:900\n",
      "555 612\n"
     ]
    }
   ],
   "source": [
    "\n",
    "a, b = input('input a:'), input('input b:')\n",
    "int_a, int_b = int(a), int(b)\n",
    "int_a, int_b = (int_b, int_a) if int_a > int_b else (int_a, int_b)\n",
    "\n",
    "def is_self_dividing(n: int): # n = 11\n",
    "    n_str = str(n) #轉成string n_str='11'\n",
    "    for divisor in list(n_str): #['1','1']\n",
    "        int_divisor = int(divisor) #str to int\n",
    "        \n",
    "        if int_divisor == 0:\n",
    "            return False\n",
    "        elif n % int_divisor !=0:\n",
    "            return False\n",
    "    return True\n",
    "\n",
    "self_dividing_numbers = [] #紀錄自除術[11,12,15]\n",
    "for i in range(int_a, int_b+1): #檢查中間值\n",
    "    if is_self_dividing(i):\n",
    "        self_dividing_numbers.append(i)\n",
    "        \n",
    "#紀錄最大自除數間距的index ->[1,2,12] ->index = 1\n",
    "max_distance = -1\n",
    "max_distance_index = -1\n",
    "\n",
    "for idx in range(1, len(self_dividing_numbers)):\n",
    "    distance = self_dividing_numbers[idx] - self_dividing_numbers[idx-1] #後面剪前面，比之前大就存下來\n",
    "    if distance > max_distance:\n",
    "        max_distance = distance\n",
    "        max_distance_index = idx\n",
    "        \n",
    "print(self_dividing_numbers[max_distance_index-1],\n",
    "     self_dividing_numbers[max_distance_index])"
   ]
  },
  {
   "cell_type": "code",
   "execution_count": null,
   "metadata": {},
   "outputs": [],
   "source": []
  }
 ],
 "metadata": {
  "kernelspec": {
   "display_name": "Python 3",
   "language": "python",
   "name": "python3"
  },
  "language_info": {
   "codemirror_mode": {
    "name": "ipython",
    "version": 3
   },
   "file_extension": ".py",
   "mimetype": "text/x-python",
   "name": "python",
   "nbconvert_exporter": "python",
   "pygments_lexer": "ipython3",
   "version": "3.7.4"
  }
 },
 "nbformat": 4,
 "nbformat_minor": 2
}
