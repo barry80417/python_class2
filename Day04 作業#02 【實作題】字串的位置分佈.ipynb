{
 "cells": [
  {
   "cell_type": "code",
   "execution_count": 12,
   "metadata": {},
   "outputs": [
    {
     "name": "stdout",
     "output_type": "stream",
     "text": [
      "{'H': [1], 'e': [2, 3, 7, 26, 31], 'r': [3, 6, 27, 36], ' ': [5, 8, 18, 22, 32], 'a': [6, 19, 29, 35], 'U': [10], 'P': [11, 11], 'E': [13, 17], 'R': [14], 'C': [15], 'A': [16], 'S': [17], 'n': [21], 'd': [22], 'l': [24], 'o': [25], 'w': [26], 'c': [29, 33], 's': [31, 37], 'h': [35], '.': [39]}\n"
     ]
    }
   ],
   "source": [
    "s = 'Here are UPPERCASE and lowercase chars.'\n",
    "\n",
    "d = {}\n",
    "for l,i in enumerate(s):\n",
    "    if i not in d:\n",
    "        d[i]=[l+1]\n",
    "    else:\n",
    "        d[i].append(l)\n",
    "        \n",
    "\n",
    "print(d) "
   ]
  },
  {
   "cell_type": "code",
   "execution_count": 1,
   "metadata": {},
   "outputs": [
    {
     "name": "stdout",
     "output_type": "stream",
     "text": [
      "{'n': [21], 'U': [10], 'o': [25], 'a': [6, 20, 30, 36], 'c': [29, 34], 'C': [15], 'h': [35], 'P': [11, 12], 'H': [1], 'r': [3, 7, 28, 37], 'w': [26], 'e': [2, 4, 8, 27, 32], 'd': [22], 'R': [14], 's': [31, 38], 'l': [24], 'E': [13, 18], 'S': [17], '.': [1, 2, 3, 4, 5, 6, 7, 8, 9, 10, 11, 12, 13, 14, 15, 16, 17, 18, 19, 20, 21, 22, 23, 24, 25, 26, 27, 28, 29, 30, 31, 32, 33, 34, 35, 36, 37, 38, 39], 'A': [16], ' ': [5, 9, 19, 23, 33]}\n"
     ]
    }
   ],
   "source": [
    "import re\n",
    "\n",
    "s = 'Here are UPPERCASE and lowercase chars.'\n",
    "\n",
    "d = {}\n",
    "\n",
    "for char in set(s):\n",
    "    index_record = []\n",
    "    for match in re.finditer(char, s): #finditer回傳位置index\n",
    "        index_record.append(match.start()+1)\n",
    "        \n",
    "    d[char] = index_record\n",
    "    \n",
    "print(d)"
   ]
  },
  {
   "cell_type": "code",
   "execution_count": 5,
   "metadata": {},
   "outputs": [
    {
     "data": {
      "text/plain": [
       "['In',\n",
       " 'Out',\n",
       " '_',\n",
       " '_3',\n",
       " '_4',\n",
       " '__',\n",
       " '___',\n",
       " '__builtin__',\n",
       " '__builtins__',\n",
       " '__doc__',\n",
       " '__loader__',\n",
       " '__name__',\n",
       " '__package__',\n",
       " '__spec__',\n",
       " '_dh',\n",
       " '_i',\n",
       " '_i1',\n",
       " '_i2',\n",
       " '_i3',\n",
       " '_i4',\n",
       " '_i5',\n",
       " '_ih',\n",
       " '_ii',\n",
       " '_iii',\n",
       " '_oh',\n",
       " 'char',\n",
       " 'd',\n",
       " 'exit',\n",
       " 'get_ipython',\n",
       " 'index_record',\n",
       " 'match',\n",
       " 'quit',\n",
       " 're',\n",
       " 's']"
      ]
     },
     "execution_count": 5,
     "metadata": {},
     "output_type": "execute_result"
    }
   ],
   "source": [
    "dir()"
   ]
  },
  {
   "cell_type": "code",
   "execution_count": null,
   "metadata": {},
   "outputs": [],
   "source": []
  }
 ],
 "metadata": {
  "kernelspec": {
   "display_name": "Python 3",
   "language": "python",
   "name": "python3"
  },
  "language_info": {
   "codemirror_mode": {
    "name": "ipython",
    "version": 3
   },
   "file_extension": ".py",
   "mimetype": "text/x-python",
   "name": "python",
   "nbconvert_exporter": "python",
   "pygments_lexer": "ipython3",
   "version": "3.7.4"
  }
 },
 "nbformat": 4,
 "nbformat_minor": 2
}
