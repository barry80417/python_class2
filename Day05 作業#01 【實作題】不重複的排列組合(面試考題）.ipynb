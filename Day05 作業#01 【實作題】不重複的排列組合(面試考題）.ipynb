{
 "cells": [
  {
   "cell_type": "code",
   "execution_count": 36,
   "metadata": {},
   "outputs": [
    {
     "name": "stdout",
     "output_type": "stream",
     "text": [
      "ABC\n",
      "['A', 'C']\n",
      "['C']\n",
      "['A']\n",
      "['B', 'C']\n",
      "['C']\n",
      "['B']\n",
      "['B', 'A']\n",
      "['A']\n",
      "['B']\n",
      "['BAC', 'BCA', 'ABC', 'ACB', 'CBA', 'CAB']\n"
     ]
    }
   ],
   "source": [
    "s = input() #AB\n",
    "\n",
    "\n",
    "def perm(x):\n",
    "    d = []\n",
    "    if len(x)==1:  #如果字串只有一個，直接輸出\n",
    "        return x\n",
    "    else:  #如果字串超過一個\n",
    "        for i in range(len(x)): \n",
    "            rest = x[:i]+x[i+1:] #取出第一位後續做排列\n",
    "            rest = perm(rest)  #直到取出剩兩位\n",
    "            for j in rest: \n",
    "                d.append(x[i]+j)\n",
    "        return d\n",
    "x = []\n",
    "[x.append(i) for i in s]\n",
    "x = list(set(x))\n",
    "print(perm(x))"
   ]
  },
  {
   "cell_type": "code",
   "execution_count": 8,
   "metadata": {},
   "outputs": [
    {
     "name": "stdout",
     "output_type": "stream",
     "text": [
      "AB\n",
      "A B\n",
      "B A\n"
     ]
    }
   ],
   "source": [
    "import itertools\n",
    "s = input()\n",
    "d = list(itertools.permutations(s))\n",
    "for i in d:\n",
    "    print(*i)"
   ]
  },
  {
   "cell_type": "code",
   "execution_count": 1,
   "metadata": {},
   "outputs": [
    {
     "name": "stdout",
     "output_type": "stream",
     "text": [
      "ABA\n",
      "['AB', 'BA']\n"
     ]
    }
   ],
   "source": [
    "import itertools\n",
    "s = input() #\"AB\"\n",
    "s = set(s) #{AB}\n",
    "s = sorted(s)\n",
    "perm = list(itertools.permutations(s))\n",
    "\n",
    "result = [''.join(row) for row in perm] #' '.join(row)是將row內的list進行合併\n",
    "print(result)"
   ]
  },
  {
   "cell_type": "code",
   "execution_count": 17,
   "metadata": {},
   "outputs": [
    {
     "name": "stdout",
     "output_type": "stream",
     "text": [
      "[['a', 'b', 'c'], ['a', 'c', 'b'], ['b', 'a', 'c'], ['b', 'c', 'a'], ['c', 'b', 'a'], ['c', 'a', 'b']]\n"
     ]
    }
   ],
   "source": [
    "from copy import deepcopy\n",
    "def permutations(arr, position, end): #\n",
    "    if position == end:\n",
    "        h.append(deepcopy(arr))\n",
    "        \n",
    "    else:\n",
    "        for index in range(position, end):\n",
    "            arr[index], arr[position] = arr[position], arr[index]\n",
    "            \n",
    "            permutations(arr, position+1, end)\n",
    "            arr[index], arr[position] = arr[position], arr[index]\n",
    "\n",
    "global h\n",
    "h = []\n",
    "arr = ['a','b','c']\n",
    "permutations(arr, 0, len(arr))\n",
    "print(h)"
   ]
  },
  {
   "cell_type": "code",
   "execution_count": null,
   "metadata": {},
   "outputs": [],
   "source": []
  }
 ],
 "metadata": {
  "kernelspec": {
   "display_name": "Python 3",
   "language": "python",
   "name": "python3"
  },
  "language_info": {
   "codemirror_mode": {
    "name": "ipython",
    "version": 3
   },
   "file_extension": ".py",
   "mimetype": "text/x-python",
   "name": "python",
   "nbconvert_exporter": "python",
   "pygments_lexer": "ipython3",
   "version": "3.7.4"
  }
 },
 "nbformat": 4,
 "nbformat_minor": 2
}
