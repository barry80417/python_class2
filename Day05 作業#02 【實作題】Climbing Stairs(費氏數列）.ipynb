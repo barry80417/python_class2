{
 "cells": [
  {
   "cell_type": "code",
   "execution_count": 4,
   "metadata": {},
   "outputs": [
    {
     "name": "stdout",
     "output_type": "stream",
     "text": [
      "4\n",
      "5\n"
     ]
    }
   ],
   "source": [
    "# 1F: 1\n",
    "# 2F: 2\n",
    "# 3F: 1F+2, 2F+1 ->(1)+2, (1+1)+1,(2)+1\n",
    "# 4F: 2F+2, 3F+1 ->[(1+1)+2,(2)+2],[(1+2)+1,(1+1+1)+1,(2+1)+1]\n",
    "# nF:(n-2)F+2, (n-1)F+1 -> (n-2)F + (n-1)F\n",
    "\n",
    "n = int(input())\n",
    "\n",
    "def climb(n: int)-> int:\n",
    "    if n == 1:\n",
    "        return 1\n",
    "    elif n == 2:\n",
    "        return 2\n",
    "    steps =[0]*(n)\n",
    "    steps[0] = 1\n",
    "    steps[1] = 2\n",
    "    for i in range(2,n):\n",
    "        steps[i] = steps[i-1]+steps[i-2] #把先前計算的心存下來，不用每次都回function計算\n",
    "    return steps[n-1]\n",
    "\n",
    "print(climb(n))"
   ]
  },
  {
   "cell_type": "code",
   "execution_count": 6,
   "metadata": {},
   "outputs": [
    {
     "name": "stdout",
     "output_type": "stream",
     "text": [
      "4\n",
      "5\n"
     ]
    }
   ],
   "source": [
    "n = int(input())\n",
    "\n",
    "def climb(n: int)-> int:\n",
    "    if n == 1:\n",
    "        return 1\n",
    "    elif n == 2:\n",
    "        return 2\n",
    "    steps =[0]*(n)\n",
    "    steps[0] = 1\n",
    "    steps[1] = 2\n",
    "    for i in range(2,n):\n",
    "        steps[i] = climb(n-2) + climb(n-1)\n",
    "    return steps[n-1]\n",
    "\n",
    "print(climb(n))"
   ]
  },
  {
   "cell_type": "code",
   "execution_count": null,
   "metadata": {},
   "outputs": [],
   "source": []
  }
 ],
 "metadata": {
  "kernelspec": {
   "display_name": "Python 3",
   "language": "python",
   "name": "python3"
  },
  "language_info": {
   "codemirror_mode": {
    "name": "ipython",
    "version": 3
   },
   "file_extension": ".py",
   "mimetype": "text/x-python",
   "name": "python",
   "nbconvert_exporter": "python",
   "pygments_lexer": "ipython3",
   "version": "3.7.4"
  }
 },
 "nbformat": 4,
 "nbformat_minor": 2
}
