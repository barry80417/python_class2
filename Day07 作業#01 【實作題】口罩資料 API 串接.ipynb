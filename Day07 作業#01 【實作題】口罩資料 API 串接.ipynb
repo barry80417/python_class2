{
 "cells": [
  {
   "cell_type": "code",
   "execution_count": 91,
   "metadata": {},
   "outputs": [
    {
     "name": "stderr",
     "output_type": "stream",
     "text": [
      "IOPub data rate exceeded.\n",
      "The notebook server will temporarily stop sending output\n",
      "to the client in order to avoid crashing it.\n",
      "To change this limit, set the config variable\n",
      "`--NotebookApp.iopub_data_rate_limit`.\n",
      "\n",
      "Current values:\n",
      "NotebookApp.iopub_data_rate_limit=1000000.0 (bytes/sec)\n",
      "NotebookApp.rate_limit_window=3.0 (secs)\n",
      "\n"
     ]
    }
   ],
   "source": [
    "import requests\n",
    "import json\n",
    "\n",
    "# 收集\n",
    "url = 'https://raw.githubusercontent.com/kiang/pharmacies/master/json/points.json'\n",
    "r = requests.get(url)\n",
    "response = r.text\n",
    "\n",
    "# 整理\n",
    "data = json.loads(response)\n",
    "\n",
    "# 儲存\n",
    "with open(\"mask.json\", \"w\") as f:\n",
    "    f.write(json.dumps(data))"
   ]
  },
  {
   "cell_type": "code",
   "execution_count": 6,
   "metadata": {},
   "outputs": [
    {
     "name": "stdout",
     "output_type": "stream",
     "text": [
      "defaultdict(<class 'int'>, {'臺北市': 339, '': 49, '高雄市': 422, '臺中市': 420, '臺南市': 271, '基隆市': 57, '新竹市': 39, '嘉義市': 67, '新北市': 501, '桃園市': 264, '新竹縣': 46, '宜蘭縣': 76, '苗栗縣': 56, '彰化縣': 179, '南投縣': 67, '雲林縣': 129, '嘉義縣': 84, '屏東縣': 140, '澎湖縣': 11, '花蓮縣': 46, '臺東縣': 23, '金門縣': 6, '連江縣': 1})\n"
     ]
    }
   ],
   "source": [
    "from collections import defaultdict\n",
    "med_count = defaultdict(int)\n",
    "\n",
    "# 填入欄位名稱\n",
    "for row in data['features']:\n",
    "    conunty = row['properties']['county']\n",
    "    med_count[conunty] += 1\n",
    "\n",
    "print(med_count)"
   ]
  },
  {
   "cell_type": "code",
   "execution_count": 92,
   "metadata": {},
   "outputs": [
    {
     "name": "stdout",
     "output_type": "stream",
     "text": [
      "[('新北市', 670270), ('臺中市', 536710), ('高雄市', 424170), ('臺南市', 393900), ('桃園市', 331940), ('臺北市', 322490), ('彰化縣', 219400), ('雲林縣', 196990), ('屏東縣', 184250), ('苗栗縣', 131080), ('嘉義縣', 113180), ('嘉義市', 107840), ('宜蘭縣', 106900), ('南投縣', 91240), ('基隆市', 80100), ('', 69210), ('花蓮縣', 57330), ('新竹縣', 51350), ('新竹市', 45630), ('臺東縣', 28510), ('金門縣', 15510), ('澎湖縣', 12600), ('連江縣', 7930)]\n",
      "[('新北市', 539260), ('臺中市', 470910), ('高雄市', 421180), ('臺北市', 344150), ('臺南市', 327950), ('桃園市', 270810), ('彰化縣', 220060), ('屏東縣', 169820), ('雲林縣', 165570), ('嘉義縣', 112370), ('嘉義市', 97820), ('宜蘭縣', 93670), ('南投縣', 91630), ('基隆市', 84380), ('苗栗縣', 82630), ('花蓮縣', 57190), ('', 56130), ('新竹縣', 55630), ('新竹市', 43580), ('臺東縣', 25810), ('澎湖縣', 16510), ('金門縣', 14980), ('連江縣', 3470)]\n"
     ]
    }
   ],
   "source": [
    "with open('mask.json', 'r') as f:\n",
    "  data = json.load(f)\n",
    "\n",
    "from collections import defaultdict\n",
    "\n",
    "# 宣告 dictionary 用來存放資料\n",
    "child_count = defaultdict(int)\n",
    "adult_count = defaultdict(int)\n",
    " \n",
    "# 將資料迭代印出做計算\n",
    "for row in data['features']:\n",
    "    conunty = row['properties']['county']\n",
    "    mask_child = row['properties']['mask_child']\n",
    "    mask_adult = row['properties']['mask_adult']\n",
    "    child_count[conunty] += mask_child\n",
    "    adult_count[conunty] += mask_adult\n",
    "\n",
    "# 排序\n",
    "print(sorted(adult_count.items(), key=lambda kv: kv[1], reverse=True))\n",
    "print(sorted(child_count.items(), key=lambda kv: kv[1], reverse=True))"
   ]
  },
  {
   "cell_type": "code",
   "execution_count": 110,
   "metadata": {},
   "outputs": [
    {
     "name": "stdout",
     "output_type": "stream",
     "text": [
      "        mask_child  mask_adult\n",
      "county                        \n",
      "連江縣           3470        7930\n",
      "金門縣          14980       15510\n",
      "澎湖縣          16510       12600\n",
      "臺東縣          25810       28510\n",
      "新竹市          43580       45630\n",
      "新竹縣          56040       53760\n",
      "花蓮縣          57840       57330\n",
      "苗栗縣          83410      134180\n",
      "基隆市          84380       80100\n",
      "南投縣          91630       91240\n",
      "宜蘭縣          93670      106900\n",
      "嘉義市          97820      107840\n",
      "嘉義縣         112370      113180\n",
      "雲林縣         168820      199470\n",
      "屏東縣         169820      184250\n",
      "彰化縣         222670      219400\n",
      "桃園市         276820      345600\n",
      "臺南市         338410      408400\n",
      "臺北市         344250      323660\n",
      "高雄市         424980      428940\n",
      "臺中市         489570      556440\n",
      "新北市         548660      677660\n"
     ]
    }
   ],
   "source": [
    "import pandas as pd\n",
    "properties = []\n",
    "\n",
    "for info in data['features']:\n",
    "    properties += [info['properties']]\n",
    "\n",
    "properties = pd.DataFrame(properties)\n",
    "#將county空值改為地址前三字\n",
    "county = properties['address'].str[:3]\n",
    "properties['county'] = county\n",
    "# print(properties.head())\n",
    "\n",
    "mask = [properties['county'],properties['mask_child'],properties['mask_adult']]\n",
    "\n",
    "mask = pd.DataFrame(mask)\n",
    "\n",
    "mask = mask.T\n",
    "mask_count = mask.groupby('county').sum()\n",
    "print(mask_count.sort_values(by = ['mask_child']))"
   ]
  },
  {
   "cell_type": "code",
   "execution_count": null,
   "metadata": {},
   "outputs": [],
   "source": []
  }
 ],
 "metadata": {
  "kernelspec": {
   "display_name": "Python 3",
   "language": "python",
   "name": "python3"
  },
  "language_info": {
   "codemirror_mode": {
    "name": "ipython",
    "version": 3
   },
   "file_extension": ".py",
   "mimetype": "text/x-python",
   "name": "python",
   "nbconvert_exporter": "python",
   "pygments_lexer": "ipython3",
   "version": "3.7.4"
  }
 },
 "nbformat": 4,
 "nbformat_minor": 2
}
