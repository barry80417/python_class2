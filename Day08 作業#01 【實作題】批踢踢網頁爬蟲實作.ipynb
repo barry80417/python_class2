{
 "cells": [
  {
   "cell_type": "code",
   "execution_count": 43,
   "metadata": {},
   "outputs": [],
   "source": [
    "'''PTT 是全台最大的 BBS 資訊站，提供許多事件的討論，也是許多行銷人、新聞媒體觀察的輿論的重要來源。在課堂中，我們知道如何抓取PTT的文章清單了\n",
    "#，但是還有很多資訊尚未被截取出來，我們試著透過以下步驟，慢慢的把整個八卦版的全部標題和內文透過上課所學的方式，將資料擷取下來吧！\n",
    "\n",
    "# ➟ PTT web 網址：https://www.ptt.cc/bbs/Gossiping/index.html\n",
    "'''\n",
    "# 1. 首先，請你嘗試將每篇文章網址抓出來：\n",
    "#-----------------------------------------------------------------------#\n",
    "\n",
    "import requests\n",
    "from bs4 import BeautifulSoup\n",
    "payload = {\n",
    "    'from': '/bbs/Gossiping/index.html',\n",
    "    'yes': 'yes'\n",
    "}\n",
    "\n",
    "headers = {\n",
    "  'user-agent': 'Mozilla/5.0 (Macintosh; Intel Mac OS X 10_12_3) AppleWebKit/537.36 (KHTML, like Gecko) Chrome/56.0.2924.87 Safari/537.36'\n",
    "}\n",
    "\n",
    "rs = requests.Session()\n",
    "rs.post('https://www.ptt.cc/ask/over18', data=payload, headers=headers)\n",
    "res = rs.get('https://www.ptt.cc/bbs/Gossiping/index.html', headers=headers)\n",
    "soup = BeautifulSoup(res.text, 'html.parser')\n",
    "\n",
    "# 填入每篇文章的class name\n",
    "items = soup.find_all('div', class_='r-ent')\n",
    "\n",
    "\n",
    "main_url='https://www.ptt.cc/'\n",
    "result = []\n",
    "for item in items:\n",
    "    \n",
    "    # 填入每篇文章title的class name\n",
    "    title = item.find('div', class_='title').text\n",
    "    \n",
    "    # 填入每篇文章url的tag和attribute\n",
    "    url = main_url + item.find('a')['href']\n",
    "\n",
    "    result.append([title, url])"
   ]
  },
  {
   "cell_type": "code",
   "execution_count": 86,
   "metadata": {},
   "outputs": [
    {
     "ename": "AttributeError",
     "evalue": "'NoneType' object has no attribute 'text'",
     "output_type": "error",
     "traceback": [
      "\u001b[0;31m---------------------------------------------------------------------------\u001b[0m",
      "\u001b[0;31mAttributeError\u001b[0m                            Traceback (most recent call last)",
      "\u001b[0;32m<ipython-input-86-ffefbe253266>\u001b[0m in \u001b[0;36m<module>\u001b[0;34m\u001b[0m\n\u001b[1;32m     14\u001b[0m   \u001b[0;31m# 填入正確的tag和名稱\u001b[0m\u001b[0;34m\u001b[0m\u001b[0;34m\u001b[0m\u001b[0;34m\u001b[0m\u001b[0m\n\u001b[1;32m     15\u001b[0m     \u001b[0mitems\u001b[0m \u001b[0;34m=\u001b[0m \u001b[0msoup\u001b[0m\u001b[0;34m.\u001b[0m\u001b[0mfind\u001b[0m\u001b[0;34m(\u001b[0m\u001b[0;34m'div'\u001b[0m\u001b[0;34m,\u001b[0m \u001b[0mclass_\u001b[0m\u001b[0;34m=\u001b[0m\u001b[0;34m'main-content'\u001b[0m\u001b[0;34m)\u001b[0m\u001b[0;34m\u001b[0m\u001b[0;34m\u001b[0m\u001b[0m\n\u001b[0;32m---> 16\u001b[0;31m     \u001b[0mcontent\u001b[0m \u001b[0;34m=\u001b[0m \u001b[0msoup\u001b[0m\u001b[0;34m.\u001b[0m\u001b[0mfind\u001b[0m\u001b[0;34m(\u001b[0m\u001b[0;34m'div'\u001b[0m\u001b[0;34m,\u001b[0m \u001b[0mid\u001b[0m\u001b[0;34m=\u001b[0m\u001b[0;34m'main-content'\u001b[0m\u001b[0;34m)\u001b[0m\u001b[0;34m.\u001b[0m\u001b[0mtext\u001b[0m\u001b[0;34m\u001b[0m\u001b[0;34m\u001b[0m\u001b[0m\n\u001b[0m\u001b[1;32m     17\u001b[0m \u001b[0;31m#     items = soup.find('div', class_='article-metaline')\u001b[0m\u001b[0;34m\u001b[0m\u001b[0;34m\u001b[0m\u001b[0;34m\u001b[0m\u001b[0m\n\u001b[1;32m     18\u001b[0m \u001b[0;31m#     content = soup.find('div', id='main-content').text\u001b[0m\u001b[0;34m\u001b[0m\u001b[0;34m\u001b[0m\u001b[0;34m\u001b[0m\u001b[0m\n",
      "\u001b[0;31mAttributeError\u001b[0m: 'NoneType' object has no attribute 'text'"
     ]
    }
   ],
   "source": [
    "#2. 接下來，透過文章網址將內文一起抓出來：\n",
    "#-----------------------------------------------------------------------#\n",
    "\n",
    "content_list = []\n",
    "for row in result:\n",
    "    title, url = row\n",
    "\n",
    "    \n",
    "  # 填入session資訊並且透過request來得到HTML\n",
    "    r = requests.get(url, headers = headers, cookies = {'over18':'1'})\n",
    "  \n",
    "    soup = BeautifulSoup(r.text, 'html.parser')\n",
    "\n",
    "  # 填入正確的tag和名稱\n",
    "    items = soup.find('div', class_='article-metaline')\n",
    "    content = soup.find('div', id='main-content').text\n",
    "    content_list.append([title, url, content])\n",
    "\n",
    "# 存檔\n",
    "import pandas as pd\n",
    "pd.DataFrame(content_list, columns=['title','url','content']).to_excel('content.xlsx')"
   ]
  },
  {
   "cell_type": "code",
   "execution_count": 85,
   "metadata": {},
   "outputs": [
    {
     "name": "stdout",
     "output_type": "stream",
     "text": [
      "<div class=\"btn-group btn-group-paging\">\n",
      "<a class=\"btn wide\" href=\"/bbs/Gossiping/index1.html\">最舊</a>\n",
      "<a class=\"btn wide\" href=\"/bbs/Gossiping/index38914.html\">‹ 上頁</a>\n",
      "<a class=\"btn wide disabled\">下頁 ›</a>\n",
      "<a class=\"btn wide\" href=\"/bbs/Gossiping/index.html\">最新</a>\n",
      "</div>\n",
      "https://www.ptt.cc//bbs/Gossiping/index38914.html\n"
     ]
    }
   ],
   "source": [
    "#3. 試著用程式碼抓取下一頁的內容（透過抓取按鈕「上頁」的網址，來獲得下一頁的 HTML），並且觀察看看每頁的網址的改變：\n",
    "#-----------------------------------------------------------------------#\n",
    "import requests\n",
    "from bs4 import BeautifulSoup\n",
    "\n",
    "res = requests.get('https://www.ptt.cc/bbs/Gossiping/index.html', cookies = {'over18':'1'})\n",
    "soup = BeautifulSoup(res.text, 'html.parser')\n",
    "\n",
    "pre_page_url = soup.find('div', class_='btn-group btn-group-paging')\n",
    "print(pre_page_url)\n",
    "pre_page_url = main_url + pre_page_url('a')[1]['href']\n",
    "print(pre_page_url)\n"
   ]
  },
  {
   "cell_type": "code",
   "execution_count": null,
   "metadata": {},
   "outputs": [],
   "source": []
  }
 ],
 "metadata": {
  "kernelspec": {
   "display_name": "Python 3",
   "language": "python",
   "name": "python3"
  },
  "language_info": {
   "codemirror_mode": {
    "name": "ipython",
    "version": 3
   },
   "file_extension": ".py",
   "mimetype": "text/x-python",
   "name": "python",
   "nbconvert_exporter": "python",
   "pygments_lexer": "ipython3",
   "version": "3.7.4"
  }
 },
 "nbformat": 4,
 "nbformat_minor": 2
}
