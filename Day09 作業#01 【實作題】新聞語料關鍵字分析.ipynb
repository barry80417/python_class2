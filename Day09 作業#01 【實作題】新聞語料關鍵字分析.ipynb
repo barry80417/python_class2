{
 "cells": [
  {
   "cell_type": "code",
   "execution_count": null,
   "metadata": {},
   "outputs": [],
   "source": [
    "'''\n",
    "1. 請問中文字和英文字在斷詞處理上可能會遇到哪些差異？\n",
    "'''\n",
    "英文斷詞可以只靠標點符號及空白斷詞\n",
    "中文斷詞通常需要依賴字典、規則"
   ]
  },
  {
   "cell_type": "code",
   "execution_count": 4,
   "metadata": {},
   "outputs": [],
   "source": [
    "'''\n",
    "3. 將準備好的新聞語料資料庫（.txt）利用讀入到程式中：\n",
    "'''\n",
    "\n",
    "\n",
    "# txt檔案路徑\n",
    "txt_file_path = \"/Users/chunweichang/Desktop/python class/data.txt\"\n",
    "\n",
    "# 載入檔案到變數中\n",
    "with open(txt_file_path, \"r\")as fn:\n",
    "    lines = fn.readlines()\n",
    "    lines = list(map(lambda x: x.strip(),lines)) # 移除斷行字元"
   ]
  },
  {
   "cell_type": "code",
   "execution_count": 5,
   "metadata": {},
   "outputs": [
    {
     "name": "stdout",
     "output_type": "stream",
     "text": [
      "Requirement already satisfied: jieba in /opt/anaconda3/lib/python3.7/site-packages (0.42.1)\n",
      "Requirement already satisfied: wget in /opt/anaconda3/lib/python3.7/site-packages (3.2)\n"
     ]
    },
    {
     "data": {
      "text/plain": [
       "'dict.txt (9).big'"
      ]
     },
     "execution_count": 5,
     "metadata": {},
     "output_type": "execute_result"
    }
   ],
   "source": [
    "'''\n",
    "4. 試著在 Colab 中使用 pip 安裝 `jieba` 斷詞套件與相關工具。Hint：指令前加上 ! 符號即可在 Colab 中執行 pip 指令\n",
    "'''\n",
    "\n",
    "# 安裝 jieba 中文斷詞套件\n",
    "!pip install jieba\n",
    "!pip install wget\n",
    "\n",
    "# 下載官方字典檔\n",
    "import wget\n",
    "url = 'https://raw.githubusercontent.com/fxsjy/jieba/master/extra_dict/dict.txt.big'\n",
    "wget.download(url)"
   ]
  },
  {
   "cell_type": "code",
   "execution_count": 42,
   "metadata": {},
   "outputs": [
    {
     "data": {
      "text/plain": [
       "'/Users/chunweichang/Desktop/python class/dict.txt.big'"
      ]
     },
     "execution_count": 42,
     "metadata": {},
     "output_type": "execute_result"
    }
   ],
   "source": [
    "import os\n",
    "os.path.abspath(\"./dict.txt.big\")"
   ]
  },
  {
   "cell_type": "code",
   "execution_count": 2,
   "metadata": {},
   "outputs": [
    {
     "name": "stderr",
     "output_type": "stream",
     "text": [
      "Building prefix dict from the default dictionary ...\n",
      "Loading model from cache /var/folders/ll/lb_b4vvx7cgfp2wpfsv4w6zm0000gn/T/jieba.cache\n",
      "Loading model cost 0.776 seconds.\n",
      "Prefix dict has been built successfully.\n"
     ]
    }
   ],
   "source": [
    "# 載入套件與字典檔\n",
    "import jieba\n",
    "jieba.load_userdict(\"./dict.txt.big\")"
   ]
  },
  {
   "cell_type": "code",
   "execution_count": 6,
   "metadata": {},
   "outputs": [],
   "source": [
    "'''\n",
    "5. 試著用不同的斷詞模式將每篇新聞的原文進行斷詞：\n",
    "'''\n",
    "\n",
    "# 精確模式斷詞\n",
    "tokens_1 = list(map(lambda x: list(jieba.cut(str(x), HMM=False)), lines))\n",
    "\n",
    "# 全模式斷詞\n",
    "tokens_2 = list(map(lambda x: list(jieba.cut(str(x), cut_all=True, HMM=False)), lines))\n",
    "\n",
    "# 搜尋引擎模式斷詞\n",
    "tokens_3 = list(map(lambda x: list(jieba.cut_for_search(str(x), HMM=False)), lines))"
   ]
  },
  {
   "cell_type": "code",
   "execution_count": 7,
   "metadata": {},
   "outputs": [
    {
     "name": "stdout",
     "output_type": "stream",
     "text": [
      "{'東方航空公司': 1, 'MU5735': 6, '航班': 6, '今': 1, '（': 13, '21': 4, '）': 14, '日': 6, '在': 21, '廣西': 8, '梧州市': 1, '上空': 2, '墜毀': 4, '，': 156, '機上': 8, '載有': 1, '乘客': 3, '123': 3, '人': 14, '、': 12, '機組人員': 1, '9': 3, '。': 33, '根據': 6, '大陸': 7, '官方': 2, '媒體': 4, '《': 4, '人民日報': 2, '》': 5, '報導': 10, '指出': 5, '國家': 4, '主席': 2, '習近平': 6, '第一': 1, '時間': 3, '指示': 5, '全力': 6, '組織': 5, '搜救': 7, '調查': 4, '飛': 3, '安': 2, '事故': 12, '原因': 6, '並且': 1, '清查': 3, '所有': 1, '民航機': 1, '安全隱患': 3, '稱': 2, '事發': 3, '後': 10, '立即': 3, '作出': 2, '重要': 1, '「': 17, '驚悉': 1, '東航': 1, '失事': 3, '要': 3, '啓動': 1, '應變': 1, '機制': 3, '妥善處置': 3, '善後': 4, '國務院': 3, '已': 4, '委派': 2, '領導': 2, '同志': 2, '協調': 2, '處理': 2, '盡': 4, '快': 3, '查明': 4, '並': 10, '加強': 4, '民用航空': 2, '領域': 2, '排查': 1, '狠抓': 3, '責任': 3, '落實': 3, '確保': 5, '航空': 4, '運行': 2, '絕對': 5, '安全': 7, '人民': 4, '生命': 4, '」': 17, '民航局': 3, '曾': 2, '於今': 1, '年': 5, '2': 7, '月': 3, '25': 3, '發': 3, '布': 3, '數據': 1, '中國民航': 2, '運輸': 1, '實現': 1, '持續': 1, '飛行': 1, '突破': 1, '1': 3, '億': 1, '小時': 3, '沒想到': 1, '今天下午': 1, '兩點': 1, '多': 2, '就': 5, '發生': 9, '東方航空': 2, '國內': 2, '客機': 4, '事件': 1, '目前': 4, '確定': 1, '機身': 3, '已經': 2, '解體': 2, '132': 4, '生死': 2, '未明': 1, '據': 2, '資料': 2, '相隔': 1, '11': 4, '沒有': 1, '意外事故': 1, '最慘': 1, '的': 37, '一次': 1, '於': 3, '1992': 2, '24': 4, '當時': 1, '南方航空公司': 1, '波音': 4, '737': 5, '-': 15, '2523': 1, '號': 1, '飛機': 6, '從': 5, '廣州': 4, '桂林': 3, '陽朔縣': 2, '楊': 2, '堤': 2, '鄉土': 2, '嶺': 2, '村': 2, '後山': 1, '粉碎性': 1, '141': 1, '遇難': 1, '是': 8, '民航史': 1, '上': 4, '最': 1, '嚴重': 2, '空難': 5, '之一': 1, '中央社': 1, '台北': 1, '日電': 1, '中國東方航空': 2, '一架': 5, '下午': 2, '時': 5, '38': 2, '分': 1, '中共': 1, '總書記': 1, '傍晚': 1, '要求': 3, '啟': 2, '動': 2, '應急': 3, '事': 1, '因': 2, '民航': 2, '隱患': 1, '空運': 1, '及': 5, '中國': 10, '顯示': 1, '這': 3, '架': 6, '800NG': 1, '型': 1, '編號': 1, '昆明': 2, '飛往': 2, '途中': 1, '梧州': 5, '則': 1, '有': 9, '機組': 3, '共計': 1, '不明': 1, '專家': 1, '向': 3, '表示': 5, '一': 1, '可能': 2, '世紀': 1, '以來': 1, '最大': 1, '央視': 2, '即': 1, '作出指示': 1, '立刻': 1, '靠': 1, '前': 2, '舉一反三': 1, '總理': 1, '李克強': 2, '批示': 1, '全力以赴': 1, '搜尋': 1, '倖存者': 1, '一切': 1, '救治': 1, '傷員': 1, '妥善處理': 1, '善後事宜': 1, '做好': 1, '遇難者': 1, '家屬': 1, '安撫': 1, '和': 5, '服務': 1, '實事求是': 1, '及時': 1, '準確': 1, '信息': 1, '認真': 1, '嚴肅': 1, '採取': 1, '有力': 1, '措施': 1, '管理': 1, '管理部': 1, '等': 2, '有關': 1, '部門': 1, '派出': 1, '工作組': 1, '前往': 1, '現場': 2, '指導': 1, '處置': 2, '調派': 1, '廣東': 1, '兩地': 1, '救援': 3, '力量': 1, '趕赴現場': 1, '參與': 1, '工作': 1, '正在': 1, '進行': 5, '中': 7, '編輯': 1, '：': 1, '邱': 1, '國強': 1, '1110321': 1, '－': 1, '今天': 2, '藤縣': 3, '引發': 3, '山林': 1, '大火': 3, '生死未卜': 2, '墜落': 1, '畫面': 5, '也': 9, '曝光': 2, '北辰': 2, '礦業': 2, '山區': 2, '監視器': 3, '拍': 2, '下': 2, '瞬間': 1, '只見': 2, '以': 3, '近': 2, '90': 2, '度': 2, '角度': 1, '9000': 2, '公尺': 2, '高度': 3, '快速': 1, '下降': 2, '短短': 2, '秒': 4, '消失': 1, '裡': 1, '還': 2, '森林': 2, '該': 3, '離': 1, '地點': 1, '僅': 2, '公里': 2, '距離': 2, '對此': 2, '新聞': 1, '透過': 1, '微': 2, '博': 2, '上面': 1, '載': 1, '著': 1, '133': 2, '墜機': 3, '意外': 1, '墜入': 1, '隊伍': 1, '正': 1, '任務': 2, '人員': 2, '如今': 2, '了解': 2, '共有': 1, '其中': 2, '旅客': 1, '被': 10, '16': 1, '影片': 13, '當下': 1, '往下墜': 1, '高速': 1, '下墜': 1, '出現': 2, '相當': 1, '驚悚': 1, '社群': 1, '熱': 1, '搜': 1, '榜': 1, '包含': 1, '許多': 3, '網友': 1, '都': 4, '祈禱': 1, '平安': 1, '過去': 1, '過': 1, '又稱': 1, '.': 1, '當天': 1, '南方': 1, '機場': 2, '突然': 1, '約': 1, '32': 1, '處': 1, '山上': 1, '撞毀': 1, '名': 2, '8': 1, '員': 1, '全部': 1, '罹難': 1, '為': 5, '史': 1, '第': 1, '俄羅斯': 9, '烏克蘭': 12, '宣戰': 1, '侵略': 1, '了': 6, '烏': 4, '國': 2, '多處': 1, '領地': 1, '不過': 3, '仍': 2, '堅守': 1, '近日': 1, '網路上': 3, '流傳': 1, '一段': 2, '可以': 2, '看到': 1, '一名': 6, '被稱作': 1, '基輔': 6, '之': 2, '鬼': 4, '軍人': 2, '駕駛': 1, '軍': 2, '米格': 4, '29': 5, '戰機': 8, 'MiG': 1, '空中': 1, '作戰': 1, '當場': 1, '將': 2, '10': 2, '俄軍': 5, '擊毀': 1, '內容': 1, '振奮人心': 1, '但': 4, '真實性': 3, '還有': 2, '待': 1, '後續': 1, '查證': 1, '英': 1, '媒': 1, '每日': 2, '郵報': 2, '自從': 1, '入侵': 2, '第一天': 1, '瘋': 1, '傳': 1, '就是': 1, '驚人': 1, '速度': 1, '飛掠': 1, '疑似': 3, '與': 3, '蘇': 4, '27': 4, 'Su': 4, '交鋒': 1, '隨後': 1, '更': 3, '傳出': 2, '開戰': 2, '30': 2, '個': 1, '內': 2, '擊落': 2, '35': 2, '各': 1, '消息': 1, '令': 1, '烏克蘭人': 4, '感到': 2, '振奮': 1, '因此': 1, '稱作': 1, '戰': 2, '長度': 1, '點擊率': 1, '超過': 1, '500': 1, '萬': 1, '觀看': 1, '烏克蘭政府': 1, '軍隊': 1, '到處': 1, '轉發': 1, '大': 2, '讚': 1, '自': 1, '二戰': 1, '第一張': 1, '王牌': 1, '飛行員': 3, '強調': 1, '他': 10, '對方': 1, '軍機': 2, '儘管': 2, '尚未': 1, '得到': 1, '證實': 2, '確實': 1, '帶來': 2, '極大': 1, '信心': 1, '呼': 1, '這位': 2, '英雄': 1, '把': 1, '當作': 1, '早餐': 1, '吃': 1, '！': 2, '連': 2, '總統': 1, '波': 1, '洛': 1, '申': 1, '科': 1, 'Petro': 1, ' ': 7, 'Poroshenko': 1, '分享': 1, '這段': 1, '發文': 1, '照片': 1, '同樣': 1, '『': 1, '』': 1, '讓': 2, '敵人': 1, '感到恐懼': 1, '驕傲': 1, '戰勝': 1, '6': 1, '次': 1, '如此': 1, '強大': 1, '防守': 1, '一定': 1, '贏': 1, '路透': 1, '事實': 1, '查核': 1, 'Reuters': 1, 'Fact': 1, 'Check': 1, '發現': 1, '這部': 1, '當中': 1, '某些': 1, '片段': 1, '是從': 1, '2008': 1, '電腦遊戲': 1, '數位': 1, '模擬': 1, '戰鬥': 1, 'Digital': 1, 'Combat': 1, 'Simulator': 1, 'World': 2, 'DCS': 1, '擷取': 1, '造假': 1, '偏向': 1, '對抗': 1, '外敵': 1, '希望': 1, '其': 2, '意義': 1, '遠大於': 1, '戰功': 1, '俄': 6, '戰火': 1, '延燒': 1, '至今': 1, '未': 2, '停歇': 1, '每天': 2, '無情': 1, '砲': 1, '火': 1, '轟炸': 1, '兩': 1, '士兵': 4, '正面交鋒': 1, '造成': 1, '傷亡': 1, '軍方': 2, '公開': 1, '被俘': 2, '22': 2, '歲': 2, '透露': 1, '支': 1, '受過': 1, '訓練': 1, '小組': 2, '專門': 2, '負責': 1, '射殺': 2, '不': 1, '願': 1, '前線': 1, '被服': 1, '一支': 1, '訓練有素': 1, '殺掉': 1, '任何': 1, '想要': 1, '逃兵': 1, '所以': 1, '不想': 1, '攻擊': 1, '只能': 1, '選擇': 1, '投降': 2, '當': 2, '我們': 4, '情況': 1, '他們': 3, '不讓': 1, '回去': 2, '若': 2, '會': 2, '殺': 1, '除了': 1, '之外': 1, '別無選擇': 1, '另一名': 1, '聲稱': 1, '兵': 3, '指揮官': 1, '手機': 1, '沒收': 1, '無法': 1, '家人': 1, '聯繫': 1, '無從': 1, '得知': 1, '外界': 1, '對': 1, '戰爭': 1, '指派': 1, '至': 1, '第二': 1, '大城': 1, '哈爾科夫': 2, 'Kharkiv': 1, '告知': 1, '平民': 2, '才': 2, '意識': 1, '到': 1, '不是': 1, '去': 2, '維護': 1, '而是': 1, '首都': 1, '日前': 1, '一場': 1, '記者會': 1, '俘虜': 1, '父母': 1, '通話': 1, '知道': 1, '自己': 1, '認定': 1, '戰死': 1, '甚至': 1, '葬禮': 1, '安排': 1, '好': 1, '之後': 1, '交換': 1, '戰俘': 1, '送回': 1, '的話': 1, '行刑隊': 1, '槍決': 1, '下令': 1, '開火': 1, '隊': 1, '中尉': 1, '試圖': 1, '拯救': 1, '婦女': 1, '她': 1, '母親': 1, '卻': 1, '遭到': 1, '戰友': 1, '開槍': 1, '擊斃': 1, '對於': 1, '上述': 1, '這些': 1, '言論': 1, '當局': 1, '皆': 1}\n"
     ]
    }
   ],
   "source": [
    "'''\n",
    "6. 最後請將斷詞後的結果計算成每個字詞的出現次數（詞頻），並存成以「出現單字為 KEY、出現次數為 Value」的 dict 型態變數：\n",
    "'''\n",
    "word_count = {}\n",
    "for sent in tokens_1: # 放入斷詞之後的變數\n",
    "    for word in sent:\n",
    "        if word not in word_count:\n",
    "            word_count[word] = 0\n",
    "        word_count[word] += 1 "
   ]
  },
  {
   "cell_type": "code",
   "execution_count": 53,
   "metadata": {},
   "outputs": [
    {
     "name": "stdout",
     "output_type": "stream",
     "text": [
      "Help on module wget:\n",
      "\n",
      "NAME\n",
      "    wget - Download utility as an easy way to get file from the net\n",
      "\n",
      "DESCRIPTION\n",
      "      python -m wget <URL>\n",
      "      python wget.py <URL>\n",
      "    \n",
      "    Downloads: http://pypi.python.org/pypi/wget/\n",
      "    Development: http://bitbucket.org/techtonik/python-wget/\n",
      "    \n",
      "    wget.py is not option compatible with Unix wget utility,\n",
      "    to make command line interface intuitive for new people.\n",
      "    \n",
      "    Public domain by anatoly techtonik <techtonik@gmail.com>\n",
      "    Also available under the terms of MIT license\n",
      "    Copyright (c) 2010-2015 anatoly techtonik\n",
      "\n",
      "FUNCTIONS\n",
      "    bar_adaptive(current, total, width=80)\n",
      "        Return progress bar string for given values in one of three\n",
      "        styles depending on available width:\n",
      "        \n",
      "            [..  ] downloaded / total\n",
      "            downloaded / total\n",
      "            [.. ]\n",
      "        \n",
      "        if total value is unknown or <= 0, show bytes counter using two\n",
      "        adaptive styles:\n",
      "        \n",
      "            %s / unknown\n",
      "            %s\n",
      "        \n",
      "        if there is not enough space on the screen, do not display anything\n",
      "        \n",
      "        returned string doesn't include control characters like \r",
      " used to\n",
      "        place cursor at the beginning of the line to erase previous content.\n",
      "        \n",
      "        this function leaves one free character at the end of string to\n",
      "        avoid automatic linefeed on Windows.\n",
      "    \n",
      "    bar_thermometer(current, total, width=80)\n",
      "        Return thermometer style progress bar string. `total` argument\n",
      "        can not be zero. The minimum size of bar returned is 3. Example:\n",
      "        \n",
      "            [..........            ]\n",
      "        \n",
      "        Control and trailing symbols (\r",
      " and spaces) are not included.\n",
      "        See `bar_adaptive` for more information.\n",
      "    \n",
      "    callback_progress(blocks, block_size, total_size, bar_function)\n",
      "        callback function for urlretrieve that is called when connection is\n",
      "        created and when once for each block\n",
      "        \n",
      "        draws adaptive progress bar in terminal/console\n",
      "        \n",
      "        use sys.stdout.write() instead of \"print,\", because it allows one more\n",
      "        symbol at the line end without linefeed on Windows\n",
      "        \n",
      "        :param blocks: number of blocks transferred so far\n",
      "        :param block_size: in bytes\n",
      "        :param total_size: in bytes, can be -1 if server doesn't return it\n",
      "        :param bar_function: another callback function to visualize progress\n",
      "    \n",
      "    detect_filename(url=None, out=None, headers=None, default='download.wget')\n",
      "        Return filename for saving file. If no filename is detected from output\n",
      "        argument, url or headers, return default (download.wget)\n",
      "    \n",
      "    download(url, out=None, bar=<function bar_adaptive at 0x7fb8b3dcf8c0>)\n",
      "        High level function, which downloads URL into tmp file in current\n",
      "        directory and then renames it to filename autodetected from either URL\n",
      "        or HTTP headers.\n",
      "        \n",
      "        :param bar: function to track download progress (visualize etc.)\n",
      "        :param out: output filename or directory\n",
      "        :return:    filename where URL is downloaded to\n",
      "    \n",
      "    filename_fix_existing(filename)\n",
      "        Expands name portion of filename with numeric ' (x)' suffix to\n",
      "        return filename that doesn't exist already.\n",
      "    \n",
      "    filename_from_headers(headers)\n",
      "        Detect filename from Content-Disposition headers if present.\n",
      "        http://greenbytes.de/tech/tc2231/\n",
      "        \n",
      "        :param: headers as dict, list or string\n",
      "        :return: filename from content-disposition header or None\n",
      "    \n",
      "    filename_from_url(url)\n",
      "        :return: detected filename as unicode or None\n",
      "    \n",
      "    get_console_width()\n",
      "        Return width of available window area. Autodetection works for\n",
      "        Windows and POSIX platforms. Returns 80 for others\n",
      "        \n",
      "        Code from http://bitbucket.org/techtonik/python-pager\n",
      "    \n",
      "    to_unicode(filename)\n",
      "        :return: filename decoded from utf-8 to unicode\n",
      "    \n",
      "    win32_unicode_console()\n",
      "        # enable unicode output to windows console\n",
      "        # https://stackoverflow.com/questions/878972/windows-cmd-encoding-change-causes-python-crash\n",
      "    \n",
      "    win32_utf8_argv()\n",
      "        Uses shell32.GetCommandLineArgvW to get sys.argv as a list of Unicode\n",
      "        strings.\n",
      "        \n",
      "        Versions 2.x of Python don't support Unicode in sys.argv on\n",
      "        Windows, with the underlying Windows API instead replacing multi-byte\n",
      "        characters with '?'.\n",
      "\n",
      "DATA\n",
      "    PY3K = True\n",
      "    usage = 'usage: wget.py [options] URL\\n\\noptions:\\n  -o --ou...ut file...\n",
      "\n",
      "VERSION\n",
      "    3.2\n",
      "\n",
      "FILE\n",
      "    /opt/anaconda3/lib/python3.7/site-packages/wget.py\n",
      "\n",
      "\n"
     ]
    }
   ],
   "source": [
    "help(wget)"
   ]
  },
  {
   "cell_type": "code",
   "execution_count": null,
   "metadata": {},
   "outputs": [],
   "source": []
  }
 ],
 "metadata": {
  "kernelspec": {
   "display_name": "Python 3",
   "language": "python",
   "name": "python3"
  },
  "language_info": {
   "codemirror_mode": {
    "name": "ipython",
    "version": 3
   },
   "file_extension": ".py",
   "mimetype": "text/x-python",
   "name": "python",
   "nbconvert_exporter": "python",
   "pygments_lexer": "ipython3",
   "version": "3.7.4"
  }
 },
 "nbformat": 4,
 "nbformat_minor": 2
}
